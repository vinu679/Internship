{
 "cells": [
  {
   "cell_type": "markdown",
   "metadata": {},
   "source": [
    "### Here i am going to Analyse the ipl Data-set to find out the insights from that Data.\n"
   ]
  },
  {
   "cell_type": "markdown",
   "metadata": {},
   "source": [
    "### Step 1:  Importing Packages"
   ]
  },
  {
   "cell_type": "code",
   "execution_count": 1,
   "metadata": {},
   "outputs": [],
   "source": [
    "import numpy as np \n",
    "import pandas as pd \n",
    "import matplotlib.pyplot as plt \n",
    "import seaborn as sns "
   ]
  },
  {
   "cell_type": "markdown",
   "metadata": {},
   "source": [
    "### Set the parameters to Seaborn and Matplotlib to Visualize data more efficiently "
   ]
  },
  {
   "cell_type": "code",
   "execution_count": 2,
   "metadata": {},
   "outputs": [],
   "source": [
    "sns.set_style(\"darkgrid\")\n",
    "plt.rcParams['figure.figsize'] = (14, 8)\n"
   ]
  },
  {
   "cell_type": "markdown",
   "metadata": {},
   "source": [
    "### Now Import Data-Set "
   ]
  },
  {
   "cell_type": "code",
   "execution_count": 5,
   "metadata": {},
   "outputs": [],
   "source": [
    "matches = pd.read_csv('matches.csv')"
   ]
  },
  {
   "cell_type": "markdown",
   "metadata": {},
   "source": [
    "### Now i am going to apply some basic operations of Pandas to our-IPL Data-set"
   ]
  },
  {
   "cell_type": "code",
   "execution_count": 6,
   "metadata": {},
   "outputs": [
    {
     "name": "stdout",
     "output_type": "stream",
     "text": [
      "(636, 18)\n"
     ]
    }
   ],
   "source": [
    "# print number of columns and number of rows\n",
    "print(matches.shape)\n"
   ]
  },
  {
   "cell_type": "code",
   "execution_count": 7,
   "metadata": {},
   "outputs": [
    {
     "data": {
      "text/plain": [
       "<bound method DataFrame.info of       id  season           city        date                        team1  \\\n",
       "0      1    2017      Hyderabad  2017-04-05          Sunrisers Hyderabad   \n",
       "1      2    2017           Pune  2017-04-06               Mumbai Indians   \n",
       "2      3    2017         Rajkot  2017-04-07                Gujarat Lions   \n",
       "3      4    2017         Indore  2017-04-08       Rising Pune Supergiant   \n",
       "4      5    2017      Bangalore  2017-04-08  Royal Challengers Bangalore   \n",
       "5      6    2017      Hyderabad  2017-04-09                Gujarat Lions   \n",
       "6      7    2017         Mumbai  2017-04-09        Kolkata Knight Riders   \n",
       "7      8    2017         Indore  2017-04-10  Royal Challengers Bangalore   \n",
       "8      9    2017           Pune  2017-04-11             Delhi Daredevils   \n",
       "9     10    2017         Mumbai  2017-04-12          Sunrisers Hyderabad   \n",
       "10    11    2017        Kolkata  2017-04-13              Kings XI Punjab   \n",
       "11    12    2017      Bangalore  2017-04-14  Royal Challengers Bangalore   \n",
       "12    13    2017         Rajkot  2017-04-14       Rising Pune Supergiant   \n",
       "13    14    2017        Kolkata  2017-04-15        Kolkata Knight Riders   \n",
       "14    15    2017          Delhi  2017-04-15             Delhi Daredevils   \n",
       "15    16    2017         Mumbai  2017-04-16                Gujarat Lions   \n",
       "16    17    2017      Bangalore  2017-04-16       Rising Pune Supergiant   \n",
       "17    18    2017          Delhi  2017-04-17             Delhi Daredevils   \n",
       "18    19    2017      Hyderabad  2017-04-17          Sunrisers Hyderabad   \n",
       "19    20    2017         Rajkot  2017-04-18  Royal Challengers Bangalore   \n",
       "20    21    2017      Hyderabad  2017-04-19          Sunrisers Hyderabad   \n",
       "21    22    2017         Indore  2017-04-20              Kings XI Punjab   \n",
       "22    23    2017        Kolkata  2017-04-21        Kolkata Knight Riders   \n",
       "23    24    2017         Mumbai  2017-04-22               Mumbai Indians   \n",
       "24    25    2017           Pune  2017-04-22          Sunrisers Hyderabad   \n",
       "25    26    2017         Rajkot  2017-04-23              Kings XI Punjab   \n",
       "26    27    2017        Kolkata  2017-04-23        Kolkata Knight Riders   \n",
       "27    28    2017         Mumbai  2017-04-24       Rising Pune Supergiant   \n",
       "28    29    2017           Pune  2017-04-26       Rising Pune Supergiant   \n",
       "29    30    2017      Bangalore  2017-04-27  Royal Challengers Bangalore   \n",
       "..   ...     ...            ...         ...                          ...   \n",
       "606  607    2016         Rajkot  2016-05-03                Gujarat Lions   \n",
       "607  608    2016        Kolkata  2016-05-04        Kolkata Knight Riders   \n",
       "608  609    2016          Delhi  2016-05-05             Delhi Daredevils   \n",
       "609  610    2016      Hyderabad  2016-05-06                Gujarat Lions   \n",
       "610  611    2016      Bangalore  2016-05-07      Rising Pune Supergiants   \n",
       "611  612    2016     Chandigarh  2016-05-07              Kings XI Punjab   \n",
       "612  613    2016  Visakhapatnam  2016-05-08          Sunrisers Hyderabad   \n",
       "613  614    2016        Kolkata  2016-05-08        Kolkata Knight Riders   \n",
       "614  615    2016     Chandigarh  2016-05-09  Royal Challengers Bangalore   \n",
       "615  616    2016  Visakhapatnam  2016-05-10          Sunrisers Hyderabad   \n",
       "616  617    2016      Bangalore  2016-05-11  Royal Challengers Bangalore   \n",
       "617  618    2016      Hyderabad  2016-05-12          Sunrisers Hyderabad   \n",
       "618  619    2016  Visakhapatnam  2016-05-13               Mumbai Indians   \n",
       "619  620    2016      Bangalore  2016-05-14  Royal Challengers Bangalore   \n",
       "620  621    2016        Kolkata  2016-05-14      Rising Pune Supergiants   \n",
       "621  622    2016     Chandigarh  2016-05-15              Kings XI Punjab   \n",
       "622  623    2016  Visakhapatnam  2016-05-15               Mumbai Indians   \n",
       "623  624    2016        Kolkata  2016-05-16        Kolkata Knight Riders   \n",
       "624  625    2016  Visakhapatnam  2016-05-17             Delhi Daredevils   \n",
       "625  626    2016      Bangalore  2016-05-18  Royal Challengers Bangalore   \n",
       "626  627    2016         Kanpur  2016-05-19        Kolkata Knight Riders   \n",
       "627  628    2016         Raipur  2016-05-20          Sunrisers Hyderabad   \n",
       "628  629    2016  Visakhapatnam  2016-05-21              Kings XI Punjab   \n",
       "629  630    2016         Kanpur  2016-05-21               Mumbai Indians   \n",
       "630  631    2016        Kolkata  2016-05-22        Kolkata Knight Riders   \n",
       "631  632    2016         Raipur  2016-05-22             Delhi Daredevils   \n",
       "632  633    2016      Bangalore  2016-05-24                Gujarat Lions   \n",
       "633  634    2016          Delhi  2016-05-25          Sunrisers Hyderabad   \n",
       "634  635    2016          Delhi  2016-05-27                Gujarat Lions   \n",
       "635  636    2016      Bangalore  2016-05-29          Sunrisers Hyderabad   \n",
       "\n",
       "                           team2                  toss_winner toss_decision  \\\n",
       "0    Royal Challengers Bangalore  Royal Challengers Bangalore         field   \n",
       "1         Rising Pune Supergiant       Rising Pune Supergiant         field   \n",
       "2          Kolkata Knight Riders        Kolkata Knight Riders         field   \n",
       "3                Kings XI Punjab              Kings XI Punjab         field   \n",
       "4               Delhi Daredevils  Royal Challengers Bangalore           bat   \n",
       "5            Sunrisers Hyderabad          Sunrisers Hyderabad         field   \n",
       "6                 Mumbai Indians               Mumbai Indians         field   \n",
       "7                Kings XI Punjab  Royal Challengers Bangalore           bat   \n",
       "8         Rising Pune Supergiant       Rising Pune Supergiant         field   \n",
       "9                 Mumbai Indians               Mumbai Indians         field   \n",
       "10         Kolkata Knight Riders        Kolkata Knight Riders         field   \n",
       "11                Mumbai Indians               Mumbai Indians         field   \n",
       "12                 Gujarat Lions                Gujarat Lions         field   \n",
       "13           Sunrisers Hyderabad          Sunrisers Hyderabad         field   \n",
       "14               Kings XI Punjab             Delhi Daredevils           bat   \n",
       "15                Mumbai Indians               Mumbai Indians         field   \n",
       "16   Royal Challengers Bangalore  Royal Challengers Bangalore         field   \n",
       "17         Kolkata Knight Riders             Delhi Daredevils           bat   \n",
       "18               Kings XI Punjab              Kings XI Punjab         field   \n",
       "19                 Gujarat Lions                Gujarat Lions         field   \n",
       "20              Delhi Daredevils          Sunrisers Hyderabad           bat   \n",
       "21                Mumbai Indians               Mumbai Indians         field   \n",
       "22                 Gujarat Lions                Gujarat Lions         field   \n",
       "23              Delhi Daredevils             Delhi Daredevils         field   \n",
       "24        Rising Pune Supergiant       Rising Pune Supergiant         field   \n",
       "25                 Gujarat Lions                Gujarat Lions         field   \n",
       "26   Royal Challengers Bangalore  Royal Challengers Bangalore         field   \n",
       "27                Mumbai Indians               Mumbai Indians         field   \n",
       "28         Kolkata Knight Riders        Kolkata Knight Riders         field   \n",
       "29                 Gujarat Lions                Gujarat Lions         field   \n",
       "..                           ...                          ...           ...   \n",
       "606             Delhi Daredevils             Delhi Daredevils         field   \n",
       "607              Kings XI Punjab              Kings XI Punjab         field   \n",
       "608      Rising Pune Supergiants      Rising Pune Supergiants         field   \n",
       "609          Sunrisers Hyderabad          Sunrisers Hyderabad         field   \n",
       "610  Royal Challengers Bangalore  Royal Challengers Bangalore         field   \n",
       "611             Delhi Daredevils             Delhi Daredevils         field   \n",
       "612               Mumbai Indians               Mumbai Indians         field   \n",
       "613                Gujarat Lions                Gujarat Lions         field   \n",
       "614              Kings XI Punjab              Kings XI Punjab         field   \n",
       "615      Rising Pune Supergiants          Sunrisers Hyderabad           bat   \n",
       "616               Mumbai Indians               Mumbai Indians         field   \n",
       "617             Delhi Daredevils             Delhi Daredevils         field   \n",
       "618              Kings XI Punjab               Mumbai Indians           bat   \n",
       "619                Gujarat Lions                Gujarat Lions         field   \n",
       "620        Kolkata Knight Riders      Rising Pune Supergiants           bat   \n",
       "621          Sunrisers Hyderabad              Kings XI Punjab           bat   \n",
       "622             Delhi Daredevils             Delhi Daredevils         field   \n",
       "623  Royal Challengers Bangalore  Royal Challengers Bangalore         field   \n",
       "624      Rising Pune Supergiants      Rising Pune Supergiants         field   \n",
       "625              Kings XI Punjab              Kings XI Punjab         field   \n",
       "626                Gujarat Lions                Gujarat Lions         field   \n",
       "627             Delhi Daredevils             Delhi Daredevils         field   \n",
       "628      Rising Pune Supergiants              Kings XI Punjab           bat   \n",
       "629                Gujarat Lions                Gujarat Lions         field   \n",
       "630          Sunrisers Hyderabad          Sunrisers Hyderabad         field   \n",
       "631  Royal Challengers Bangalore  Royal Challengers Bangalore         field   \n",
       "632  Royal Challengers Bangalore  Royal Challengers Bangalore         field   \n",
       "633        Kolkata Knight Riders        Kolkata Knight Riders         field   \n",
       "634          Sunrisers Hyderabad          Sunrisers Hyderabad         field   \n",
       "635  Royal Challengers Bangalore          Sunrisers Hyderabad           bat   \n",
       "\n",
       "     result  dl_applied                       winner  win_by_runs  \\\n",
       "0    normal           0          Sunrisers Hyderabad           35   \n",
       "1    normal           0       Rising Pune Supergiant            0   \n",
       "2    normal           0        Kolkata Knight Riders            0   \n",
       "3    normal           0              Kings XI Punjab            0   \n",
       "4    normal           0  Royal Challengers Bangalore           15   \n",
       "5    normal           0          Sunrisers Hyderabad            0   \n",
       "6    normal           0               Mumbai Indians            0   \n",
       "7    normal           0              Kings XI Punjab            0   \n",
       "8    normal           0             Delhi Daredevils           97   \n",
       "9    normal           0               Mumbai Indians            0   \n",
       "10   normal           0        Kolkata Knight Riders            0   \n",
       "11   normal           0               Mumbai Indians            0   \n",
       "12   normal           0                Gujarat Lions            0   \n",
       "13   normal           0        Kolkata Knight Riders           17   \n",
       "14   normal           0             Delhi Daredevils           51   \n",
       "15   normal           0               Mumbai Indians            0   \n",
       "16   normal           0       Rising Pune Supergiant           27   \n",
       "17   normal           0        Kolkata Knight Riders            0   \n",
       "18   normal           0          Sunrisers Hyderabad            5   \n",
       "19   normal           0  Royal Challengers Bangalore           21   \n",
       "20   normal           0          Sunrisers Hyderabad           15   \n",
       "21   normal           0               Mumbai Indians            0   \n",
       "22   normal           0                Gujarat Lions            0   \n",
       "23   normal           0               Mumbai Indians           14   \n",
       "24   normal           0       Rising Pune Supergiant            0   \n",
       "25   normal           0              Kings XI Punjab           26   \n",
       "26   normal           0        Kolkata Knight Riders           82   \n",
       "27   normal           0       Rising Pune Supergiant            3   \n",
       "28   normal           0        Kolkata Knight Riders            0   \n",
       "29   normal           0                Gujarat Lions            0   \n",
       "..      ...         ...                          ...          ...   \n",
       "606  normal           0             Delhi Daredevils            0   \n",
       "607  normal           0        Kolkata Knight Riders            7   \n",
       "608  normal           0      Rising Pune Supergiants            0   \n",
       "609  normal           0          Sunrisers Hyderabad            0   \n",
       "610  normal           0  Royal Challengers Bangalore            0   \n",
       "611  normal           0              Kings XI Punjab            9   \n",
       "612  normal           0          Sunrisers Hyderabad           85   \n",
       "613  normal           0                Gujarat Lions            0   \n",
       "614  normal           0  Royal Challengers Bangalore            1   \n",
       "615  normal           0          Sunrisers Hyderabad            4   \n",
       "616  normal           0               Mumbai Indians            0   \n",
       "617  normal           0             Delhi Daredevils            0   \n",
       "618  normal           0              Kings XI Punjab            0   \n",
       "619  normal           0  Royal Challengers Bangalore          144   \n",
       "620  normal           1        Kolkata Knight Riders            0   \n",
       "621  normal           0          Sunrisers Hyderabad            0   \n",
       "622  normal           0               Mumbai Indians           80   \n",
       "623  normal           0  Royal Challengers Bangalore            0   \n",
       "624  normal           1      Rising Pune Supergiants           19   \n",
       "625  normal           1  Royal Challengers Bangalore           82   \n",
       "626  normal           0                Gujarat Lions            0   \n",
       "627  normal           0             Delhi Daredevils            0   \n",
       "628  normal           0      Rising Pune Supergiants            0   \n",
       "629  normal           0                Gujarat Lions            0   \n",
       "630  normal           0        Kolkata Knight Riders           22   \n",
       "631  normal           0  Royal Challengers Bangalore            0   \n",
       "632  normal           0  Royal Challengers Bangalore            0   \n",
       "633  normal           0          Sunrisers Hyderabad           22   \n",
       "634  normal           0          Sunrisers Hyderabad            0   \n",
       "635  normal           0          Sunrisers Hyderabad            8   \n",
       "\n",
       "     win_by_wickets  player_of_match  \\\n",
       "0                 0     Yuvraj Singh   \n",
       "1                 7        SPD Smith   \n",
       "2                10          CA Lynn   \n",
       "3                 6       GJ Maxwell   \n",
       "4                 0        KM Jadhav   \n",
       "5                 9      Rashid Khan   \n",
       "6                 4           N Rana   \n",
       "7                 8         AR Patel   \n",
       "8                 0        SV Samson   \n",
       "9                 4        JJ Bumrah   \n",
       "10                8        SP Narine   \n",
       "11                4       KA Pollard   \n",
       "12                7           AJ Tye   \n",
       "13                0       RV Uthappa   \n",
       "14                0      CJ Anderson   \n",
       "15                6           N Rana   \n",
       "16                0        BA Stokes   \n",
       "17                4  NM Coulter-Nile   \n",
       "18                0          B Kumar   \n",
       "19                0         CH Gayle   \n",
       "20                0    KS Williamson   \n",
       "21                8       JC Buttler   \n",
       "22                4         SK Raina   \n",
       "23                0   MJ McClenaghan   \n",
       "24                6         MS Dhoni   \n",
       "25                0          HM Amla   \n",
       "26                0  NM Coulter-Nile   \n",
       "27                0        BA Stokes   \n",
       "28                7       RV Uthappa   \n",
       "29                7           AJ Tye   \n",
       "..              ...              ...   \n",
       "606               8          RR Pant   \n",
       "607               0       AD Russell   \n",
       "608               7        AM Rahane   \n",
       "609               5          B Kumar   \n",
       "610               7          V Kohli   \n",
       "611               0       MP Stoinis   \n",
       "612               0          A Nehra   \n",
       "613               5          P Kumar   \n",
       "614               0        SR Watson   \n",
       "615               0          A Zampa   \n",
       "616               6        KH Pandya   \n",
       "617               7        CH Morris   \n",
       "618               7       MP Stoinis   \n",
       "619               0   AB de Villiers   \n",
       "620               8        YK Pathan   \n",
       "621               7          HM Amla   \n",
       "622               0        KH Pandya   \n",
       "623               9          V Kohli   \n",
       "624               0         AB Dinda   \n",
       "625               0          V Kohli   \n",
       "626               6         DR Smith   \n",
       "627               6          KK Nair   \n",
       "628               4         MS Dhoni   \n",
       "629               6         SK Raina   \n",
       "630               0        YK Pathan   \n",
       "631               6          V Kohli   \n",
       "632               4   AB de Villiers   \n",
       "633               0     MC Henriques   \n",
       "634               4        DA Warner   \n",
       "635               0      BCJ Cutting   \n",
       "\n",
       "                                                 venue                umpire1  \\\n",
       "0            Rajiv Gandhi International Stadium, Uppal            AY Dandekar   \n",
       "1              Maharashtra Cricket Association Stadium         A Nand Kishore   \n",
       "2               Saurashtra Cricket Association Stadium            Nitin Menon   \n",
       "3                               Holkar Cricket Stadium           AK Chaudhary   \n",
       "4                                M Chinnaswamy Stadium                    NaN   \n",
       "5            Rajiv Gandhi International Stadium, Uppal             A Deshmukh   \n",
       "6                                     Wankhede Stadium            Nitin Menon   \n",
       "7                               Holkar Cricket Stadium           AK Chaudhary   \n",
       "8              Maharashtra Cricket Association Stadium            AY Dandekar   \n",
       "9                                     Wankhede Stadium            Nitin Menon   \n",
       "10                                        Eden Gardens             A Deshmukh   \n",
       "11                               M Chinnaswamy Stadium  KN Ananthapadmanabhan   \n",
       "12              Saurashtra Cricket Association Stadium         A Nand Kishore   \n",
       "13                                        Eden Gardens            AY Dandekar   \n",
       "14                                    Feroz Shah Kotla               YC Barde   \n",
       "15                                    Wankhede Stadium         A Nand Kishore   \n",
       "16                               M Chinnaswamy Stadium  KN Ananthapadmanabhan   \n",
       "17                                    Feroz Shah Kotla            Nitin Menon   \n",
       "18           Rajiv Gandhi International Stadium, Uppal            AY Dandekar   \n",
       "19              Saurashtra Cricket Association Stadium                 S Ravi   \n",
       "20           Rajiv Gandhi International Stadium, Uppal            CB Gaffaney   \n",
       "21                              Holkar Cricket Stadium              M Erasmus   \n",
       "22                                        Eden Gardens            CB Gaffaney   \n",
       "23                                    Wankhede Stadium         A Nand Kishore   \n",
       "24             Maharashtra Cricket Association Stadium            AY Dandekar   \n",
       "25              Saurashtra Cricket Association Stadium           AK Chaudhary   \n",
       "26                                        Eden Gardens            CB Gaffaney   \n",
       "27                                    Wankhede Stadium         A Nand Kishore   \n",
       "28             Maharashtra Cricket Association Stadium            AY Dandekar   \n",
       "29                               M Chinnaswamy Stadium           AK Chaudhary   \n",
       "..                                                 ...                    ...   \n",
       "606             Saurashtra Cricket Association Stadium            CB Gaffaney   \n",
       "607                                       Eden Gardens           AK Chaudhary   \n",
       "608                                   Feroz Shah Kotla          C Shamshuddin   \n",
       "609          Rajiv Gandhi International Stadium, Uppal              M Erasmus   \n",
       "610                              M Chinnaswamy Stadium            CB Gaffaney   \n",
       "611  Punjab Cricket Association IS Bindra Stadium, ...        HDPK Dharmasena   \n",
       "612  Dr. Y.S. Rajasekhara Reddy ACA-VDCA Cricket St...                 S Ravi   \n",
       "613                                       Eden Gardens              M Erasmus   \n",
       "614  Punjab Cricket Association IS Bindra Stadium, ...           AK Chaudhary   \n",
       "615  Dr. Y.S. Rajasekhara Reddy ACA-VDCA Cricket St...            CB Gaffaney   \n",
       "616                              M Chinnaswamy Stadium            AY Dandekar   \n",
       "617          Rajiv Gandhi International Stadium, Uppal             K Bharatan   \n",
       "618  Dr. Y.S. Rajasekhara Reddy ACA-VDCA Cricket St...        HDPK Dharmasena   \n",
       "619                              M Chinnaswamy Stadium            AY Dandekar   \n",
       "620                                       Eden Gardens         A Nand Kishore   \n",
       "621  Punjab Cricket Association IS Bindra Stadium, ...  KN Ananthapadmanabhan   \n",
       "622  Dr. Y.S. Rajasekhara Reddy ACA-VDCA Cricket St...            Nitin Menon   \n",
       "623                                       Eden Gardens            CB Gaffaney   \n",
       "624  Dr. Y.S. Rajasekhara Reddy ACA-VDCA Cricket St...            Nitin Menon   \n",
       "625                              M Chinnaswamy Stadium  KN Ananthapadmanabhan   \n",
       "626                                         Green Park           AK Chaudhary   \n",
       "627   Shaheed Veer Narayan Singh International Stadium         A Nand Kishore   \n",
       "628  Dr. Y.S. Rajasekhara Reddy ACA-VDCA Cricket St...        HDPK Dharmasena   \n",
       "629                                         Green Park           AK Chaudhary   \n",
       "630                                       Eden Gardens  KN Ananthapadmanabhan   \n",
       "631   Shaheed Veer Narayan Singh International Stadium         A Nand Kishore   \n",
       "632                              M Chinnaswamy Stadium           AK Chaudhary   \n",
       "633                                   Feroz Shah Kotla              M Erasmus   \n",
       "634                                   Feroz Shah Kotla              M Erasmus   \n",
       "635                              M Chinnaswamy Stadium        HDPK Dharmasena   \n",
       "\n",
       "             umpire2  umpire3  \n",
       "0           NJ Llong      NaN  \n",
       "1             S Ravi      NaN  \n",
       "2          CK Nandan      NaN  \n",
       "3      C Shamshuddin      NaN  \n",
       "4                NaN      NaN  \n",
       "5           NJ Llong      NaN  \n",
       "6          CK Nandan      NaN  \n",
       "7      C Shamshuddin      NaN  \n",
       "8             S Ravi      NaN  \n",
       "9          CK Nandan      NaN  \n",
       "10          NJ Llong      NaN  \n",
       "11      AK Chaudhary      NaN  \n",
       "12            S Ravi      NaN  \n",
       "13          NJ Llong      NaN  \n",
       "14       Nitin Menon      NaN  \n",
       "15            S Ravi      NaN  \n",
       "16     C Shamshuddin      NaN  \n",
       "17         CK Nandan      NaN  \n",
       "18        A Deshmukh      NaN  \n",
       "19         VK Sharma      NaN  \n",
       "20          NJ Llong      NaN  \n",
       "21     C Shamshuddin      NaN  \n",
       "22       Nitin Menon      NaN  \n",
       "23            S Ravi      NaN  \n",
       "24        A Deshmukh      NaN  \n",
       "25         M Erasmus      NaN  \n",
       "26         CK Nandan      NaN  \n",
       "27            S Ravi      NaN  \n",
       "28          NJ Llong      NaN  \n",
       "29     C Shamshuddin      NaN  \n",
       "..               ...      ...  \n",
       "606     BNJ Oxenford      NaN  \n",
       "607  HDPK Dharmasena      NaN  \n",
       "608        RJ Tucker      NaN  \n",
       "609           S Ravi      NaN  \n",
       "610     BNJ Oxenford      NaN  \n",
       "611        CK Nandan      NaN  \n",
       "612    C Shamshuddin      NaN  \n",
       "613        RJ Tucker      NaN  \n",
       "614  HDPK Dharmasena      NaN  \n",
       "615        VK Sharma      NaN  \n",
       "616    C Shamshuddin      NaN  \n",
       "617        M Erasmus      NaN  \n",
       "618        CK Nandan      NaN  \n",
       "619        VK Sharma      NaN  \n",
       "620     BNJ Oxenford      NaN  \n",
       "621        M Erasmus      NaN  \n",
       "622        CK Nandan      NaN  \n",
       "623   A Nand Kishore      NaN  \n",
       "624    C Shamshuddin      NaN  \n",
       "625        M Erasmus      NaN  \n",
       "626        CK Nandan      NaN  \n",
       "627     BNJ Oxenford      NaN  \n",
       "628      Nitin Menon      NaN  \n",
       "629        CK Nandan      NaN  \n",
       "630        M Erasmus      NaN  \n",
       "631     BNJ Oxenford      NaN  \n",
       "632  HDPK Dharmasena      NaN  \n",
       "633    C Shamshuddin      NaN  \n",
       "634        CK Nandan      NaN  \n",
       "635     BNJ Oxenford      NaN  \n",
       "\n",
       "[636 rows x 18 columns]>"
      ]
     },
     "execution_count": 7,
     "metadata": {},
     "output_type": "execute_result"
    }
   ],
   "source": [
    "#print the data type of each column  and number of rows existed for each column \n",
    "matches.info"
   ]
  },
  {
   "cell_type": "code",
   "execution_count": 8,
   "metadata": {},
   "outputs": [
    {
     "data": {
      "text/html": [
       "<div>\n",
       "<style scoped>\n",
       "    .dataframe tbody tr th:only-of-type {\n",
       "        vertical-align: middle;\n",
       "    }\n",
       "\n",
       "    .dataframe tbody tr th {\n",
       "        vertical-align: top;\n",
       "    }\n",
       "\n",
       "    .dataframe thead th {\n",
       "        text-align: right;\n",
       "    }\n",
       "</style>\n",
       "<table border=\"1\" class=\"dataframe\">\n",
       "  <thead>\n",
       "    <tr style=\"text-align: right;\">\n",
       "      <th></th>\n",
       "      <th>id</th>\n",
       "      <th>season</th>\n",
       "      <th>dl_applied</th>\n",
       "      <th>win_by_runs</th>\n",
       "      <th>win_by_wickets</th>\n",
       "      <th>umpire3</th>\n",
       "    </tr>\n",
       "  </thead>\n",
       "  <tbody>\n",
       "    <tr>\n",
       "      <th>count</th>\n",
       "      <td>636.000000</td>\n",
       "      <td>636.000000</td>\n",
       "      <td>636.000000</td>\n",
       "      <td>636.000000</td>\n",
       "      <td>636.000000</td>\n",
       "      <td>0.0</td>\n",
       "    </tr>\n",
       "    <tr>\n",
       "      <th>mean</th>\n",
       "      <td>318.500000</td>\n",
       "      <td>2012.490566</td>\n",
       "      <td>0.025157</td>\n",
       "      <td>13.682390</td>\n",
       "      <td>3.372642</td>\n",
       "      <td>NaN</td>\n",
       "    </tr>\n",
       "    <tr>\n",
       "      <th>std</th>\n",
       "      <td>183.741666</td>\n",
       "      <td>2.773026</td>\n",
       "      <td>0.156726</td>\n",
       "      <td>23.908877</td>\n",
       "      <td>3.420338</td>\n",
       "      <td>NaN</td>\n",
       "    </tr>\n",
       "    <tr>\n",
       "      <th>min</th>\n",
       "      <td>1.000000</td>\n",
       "      <td>2008.000000</td>\n",
       "      <td>0.000000</td>\n",
       "      <td>0.000000</td>\n",
       "      <td>0.000000</td>\n",
       "      <td>NaN</td>\n",
       "    </tr>\n",
       "    <tr>\n",
       "      <th>25%</th>\n",
       "      <td>159.750000</td>\n",
       "      <td>2010.000000</td>\n",
       "      <td>0.000000</td>\n",
       "      <td>0.000000</td>\n",
       "      <td>0.000000</td>\n",
       "      <td>NaN</td>\n",
       "    </tr>\n",
       "    <tr>\n",
       "      <th>50%</th>\n",
       "      <td>318.500000</td>\n",
       "      <td>2012.000000</td>\n",
       "      <td>0.000000</td>\n",
       "      <td>0.000000</td>\n",
       "      <td>4.000000</td>\n",
       "      <td>NaN</td>\n",
       "    </tr>\n",
       "    <tr>\n",
       "      <th>75%</th>\n",
       "      <td>477.250000</td>\n",
       "      <td>2015.000000</td>\n",
       "      <td>0.000000</td>\n",
       "      <td>20.000000</td>\n",
       "      <td>7.000000</td>\n",
       "      <td>NaN</td>\n",
       "    </tr>\n",
       "    <tr>\n",
       "      <th>max</th>\n",
       "      <td>636.000000</td>\n",
       "      <td>2017.000000</td>\n",
       "      <td>1.000000</td>\n",
       "      <td>146.000000</td>\n",
       "      <td>10.000000</td>\n",
       "      <td>NaN</td>\n",
       "    </tr>\n",
       "  </tbody>\n",
       "</table>\n",
       "</div>"
      ],
      "text/plain": [
       "               id       season  dl_applied  win_by_runs  win_by_wickets  \\\n",
       "count  636.000000   636.000000  636.000000   636.000000      636.000000   \n",
       "mean   318.500000  2012.490566    0.025157    13.682390        3.372642   \n",
       "std    183.741666     2.773026    0.156726    23.908877        3.420338   \n",
       "min      1.000000  2008.000000    0.000000     0.000000        0.000000   \n",
       "25%    159.750000  2010.000000    0.000000     0.000000        0.000000   \n",
       "50%    318.500000  2012.000000    0.000000     0.000000        4.000000   \n",
       "75%    477.250000  2015.000000    0.000000    20.000000        7.000000   \n",
       "max    636.000000  2017.000000    1.000000   146.000000       10.000000   \n",
       "\n",
       "       umpire3  \n",
       "count      0.0  \n",
       "mean       NaN  \n",
       "std        NaN  \n",
       "min        NaN  \n",
       "25%        NaN  \n",
       "50%        NaN  \n",
       "75%        NaN  \n",
       "max        NaN  "
      ]
     },
     "execution_count": 8,
     "metadata": {},
     "output_type": "execute_result"
    }
   ],
   "source": [
    "#print the count,min,max,standard deviation and percentages \n",
    "matches.describe()\n"
   ]
  },
  {
   "cell_type": "code",
   "execution_count": 9,
   "metadata": {},
   "outputs": [
    {
     "data": {
      "text/html": [
       "<div>\n",
       "<style scoped>\n",
       "    .dataframe tbody tr th:only-of-type {\n",
       "        vertical-align: middle;\n",
       "    }\n",
       "\n",
       "    .dataframe tbody tr th {\n",
       "        vertical-align: top;\n",
       "    }\n",
       "\n",
       "    .dataframe thead th {\n",
       "        text-align: right;\n",
       "    }\n",
       "</style>\n",
       "<table border=\"1\" class=\"dataframe\">\n",
       "  <thead>\n",
       "    <tr style=\"text-align: right;\">\n",
       "      <th></th>\n",
       "      <th>id</th>\n",
       "      <th>season</th>\n",
       "      <th>city</th>\n",
       "      <th>date</th>\n",
       "      <th>team1</th>\n",
       "      <th>team2</th>\n",
       "      <th>toss_winner</th>\n",
       "      <th>toss_decision</th>\n",
       "      <th>result</th>\n",
       "      <th>dl_applied</th>\n",
       "      <th>winner</th>\n",
       "      <th>win_by_runs</th>\n",
       "      <th>win_by_wickets</th>\n",
       "      <th>player_of_match</th>\n",
       "      <th>venue</th>\n",
       "      <th>umpire1</th>\n",
       "      <th>umpire2</th>\n",
       "      <th>umpire3</th>\n",
       "    </tr>\n",
       "  </thead>\n",
       "  <tbody>\n",
       "    <tr>\n",
       "      <th>0</th>\n",
       "      <td>1</td>\n",
       "      <td>2017</td>\n",
       "      <td>Hyderabad</td>\n",
       "      <td>2017-04-05</td>\n",
       "      <td>Sunrisers Hyderabad</td>\n",
       "      <td>Royal Challengers Bangalore</td>\n",
       "      <td>Royal Challengers Bangalore</td>\n",
       "      <td>field</td>\n",
       "      <td>normal</td>\n",
       "      <td>0</td>\n",
       "      <td>Sunrisers Hyderabad</td>\n",
       "      <td>35</td>\n",
       "      <td>0</td>\n",
       "      <td>Yuvraj Singh</td>\n",
       "      <td>Rajiv Gandhi International Stadium, Uppal</td>\n",
       "      <td>AY Dandekar</td>\n",
       "      <td>NJ Llong</td>\n",
       "      <td>NaN</td>\n",
       "    </tr>\n",
       "    <tr>\n",
       "      <th>1</th>\n",
       "      <td>2</td>\n",
       "      <td>2017</td>\n",
       "      <td>Pune</td>\n",
       "      <td>2017-04-06</td>\n",
       "      <td>Mumbai Indians</td>\n",
       "      <td>Rising Pune Supergiant</td>\n",
       "      <td>Rising Pune Supergiant</td>\n",
       "      <td>field</td>\n",
       "      <td>normal</td>\n",
       "      <td>0</td>\n",
       "      <td>Rising Pune Supergiant</td>\n",
       "      <td>0</td>\n",
       "      <td>7</td>\n",
       "      <td>SPD Smith</td>\n",
       "      <td>Maharashtra Cricket Association Stadium</td>\n",
       "      <td>A Nand Kishore</td>\n",
       "      <td>S Ravi</td>\n",
       "      <td>NaN</td>\n",
       "    </tr>\n",
       "  </tbody>\n",
       "</table>\n",
       "</div>"
      ],
      "text/plain": [
       "   id  season       city        date                team1  \\\n",
       "0   1    2017  Hyderabad  2017-04-05  Sunrisers Hyderabad   \n",
       "1   2    2017       Pune  2017-04-06       Mumbai Indians   \n",
       "\n",
       "                         team2                  toss_winner toss_decision  \\\n",
       "0  Royal Challengers Bangalore  Royal Challengers Bangalore         field   \n",
       "1       Rising Pune Supergiant       Rising Pune Supergiant         field   \n",
       "\n",
       "   result  dl_applied                  winner  win_by_runs  win_by_wickets  \\\n",
       "0  normal           0     Sunrisers Hyderabad           35               0   \n",
       "1  normal           0  Rising Pune Supergiant            0               7   \n",
       "\n",
       "  player_of_match                                      venue         umpire1  \\\n",
       "0    Yuvraj Singh  Rajiv Gandhi International Stadium, Uppal     AY Dandekar   \n",
       "1       SPD Smith    Maharashtra Cricket Association Stadium  A Nand Kishore   \n",
       "\n",
       "    umpire2  umpire3  \n",
       "0  NJ Llong      NaN  \n",
       "1    S Ravi      NaN  "
      ]
     },
     "execution_count": 9,
     "metadata": {},
     "output_type": "execute_result"
    }
   ],
   "source": [
    "#print two rows with headings\n",
    "matches.head(2)\n"
   ]
  },
  {
   "cell_type": "markdown",
   "metadata": {},
   "source": [
    "#### How many mathces that data-set has"
   ]
  },
  {
   "cell_type": "code",
   "execution_count": 52,
   "metadata": {},
   "outputs": [
    {
     "data": {
      "text/plain": [
       "636"
      ]
     },
     "execution_count": 52,
     "metadata": {},
     "output_type": "execute_result"
    }
   ],
   "source": [
    "matches['id'].max()"
   ]
  },
  {
   "cell_type": "markdown",
   "metadata": {},
   "source": [
    "#### How many seasons were done in this data-set"
   ]
  },
  {
   "cell_type": "code",
   "execution_count": 17,
   "metadata": {},
   "outputs": [
    {
     "name": "stdout",
     "output_type": "stream",
     "text": [
      "the seasons were done in => [2017, 2008, 2009, 2010, 2011, 2012, 2013, 2014, 2015, 2016]\n",
      "the nuber of seasons are =  10\n"
     ]
    }
   ],
   "source": [
    "print(\"the seasons were done in =>\",list(matches['season'].unique()))\n",
    "print(\"the nuber of seasons are = \",len(matches['season'].unique()) )"
   ]
  },
  {
   "cell_type": "markdown",
   "metadata": {},
   "source": [
    "#### which team had won by maximum runs...?"
   ]
  },
  {
   "cell_type": "code",
   "execution_count": 54,
   "metadata": {},
   "outputs": [
    {
     "data": {
      "text/plain": [
       "'Mumbai Indians'"
      ]
     },
     "execution_count": 54,
     "metadata": {},
     "output_type": "execute_result"
    }
   ],
   "source": [
    "matches.iloc[matches['win_by_runs'].idxmax()]['winner']"
   ]
  },
  {
   "cell_type": "markdown",
   "metadata": {},
   "source": [
    "#### which team had won by minimum runs...?"
   ]
  },
  {
   "cell_type": "code",
   "execution_count": 88,
   "metadata": {},
   "outputs": [
    {
     "data": {
      "text/plain": [
       "'Mumbai Indians'"
      ]
     },
     "execution_count": 88,
     "metadata": {},
     "output_type": "execute_result"
    }
   ],
   "source": [
    "matches.iloc[matches[matches['win_by_runs'].ge(1)].win_by_runs.idxmin()]['winner']"
   ]
  },
  {
   "cell_type": "markdown",
   "metadata": {},
   "source": [
    "#### which team had won by maximum wickets...?"
   ]
  },
  {
   "cell_type": "code",
   "execution_count": 55,
   "metadata": {},
   "outputs": [
    {
     "data": {
      "text/plain": [
       "'Kolkata Knight Riders'"
      ]
     },
     "execution_count": 55,
     "metadata": {},
     "output_type": "execute_result"
    }
   ],
   "source": [
    "matches.iloc[matches['win_by_wickets'].idxmax()]['winner']\n"
   ]
  },
  {
   "cell_type": "markdown",
   "metadata": {},
   "source": [
    "#### which team had won by minimum wickets...?"
   ]
  },
  {
   "cell_type": "code",
   "execution_count": 49,
   "metadata": {},
   "outputs": [
    {
     "data": {
      "text/plain": [
       "'Sunrisers Hyderabad'"
      ]
     },
     "execution_count": 49,
     "metadata": {},
     "output_type": "execute_result"
    }
   ],
   "source": [
    "matches.iloc[matches[matches['win_by_wickets'].ge(0)].win_by_wickets.idxmin()]['winner']"
   ]
  },
  {
   "cell_type": "code",
   "execution_count": 36,
   "metadata": {},
   "outputs": [
    {
     "data": {
      "text/plain": [
       "id                                   560\n",
       "season                              2015\n",
       "city                             Kolkata\n",
       "date                          2015-05-09\n",
       "team1                    Kings XI Punjab\n",
       "team2              Kolkata Knight Riders\n",
       "toss_winner              Kings XI Punjab\n",
       "toss_decision                        bat\n",
       "result                            normal\n",
       "dl_applied                             0\n",
       "winner             Kolkata Knight Riders\n",
       "win_by_runs                            0\n",
       "win_by_wickets                         1\n",
       "player_of_match               AD Russell\n",
       "venue                       Eden Gardens\n",
       "umpire1                     AK Chaudhary\n",
       "umpire2                  HDPK Dharmasena\n",
       "umpire3                              NaN\n",
       "Name: 559, dtype: object"
      ]
     },
     "execution_count": 36,
     "metadata": {},
     "output_type": "execute_result"
    }
   ],
   "source": [
    "matches.iloc[matches[matches['win_by_wickets'].ge(1)].win_by_wickets.idxmin()]"
   ]
  },
  {
   "cell_type": "markdown",
   "metadata": {},
   "source": [
    "### Which season had more number of matches "
   ]
  },
  {
   "cell_type": "code",
   "execution_count": 80,
   "metadata": {},
   "outputs": [
    {
     "name": "stdout",
     "output_type": "stream",
     "text": [
      "season 2013 consists more matches and matches count is 76\n"
     ]
    }
   ],
   "source": [
    "k=list(matches['season'])\n",
    "s=list(matches['season'].unique())\n",
    "m=0\n",
    "for i in s:\n",
    "    c=k.count(i)\n",
    "    if m<c:\n",
    "        m=c\n",
    "        index=i\n",
    "print(\"season {} consists more matches and matches count is {}\".format(index,m))"
   ]
  },
  {
   "cell_type": "code",
   "execution_count": 83,
   "metadata": {},
   "outputs": [
    {
     "data": {
      "image/png": "[encoded data removed]",
      "text/plain": [
       "<Figure size 1008x576 with 1 Axes>"
      ]
     },
     "metadata": {},
     "output_type": "display_data"
    }
   ],
   "source": [
    "sns.countplot(x='season', data=matches)\n",
    "plt.show()"
   ]
  },
  {
   "cell_type": "markdown",
   "metadata": {},
   "source": [
    "### Here is the most important insight that which team is most Successful"
   ]
  },
  {
   "cell_type": "code",
   "execution_count": 95,
   "metadata": {},
   "outputs": [
    {
     "data": {
      "text/plain": [
       "92"
      ]
     },
     "execution_count": 95,
     "metadata": {},
     "output_type": "execute_result"
    }
   ],
   "source": [
    "k=list(matches['winner'])\n",
    "k.count('Mumbai Indians')"
   ]
  },
  {
   "cell_type": "code",
   "execution_count": 94,
   "metadata": {},
   "outputs": [
    {
     "data": {
      "image/png": "[encoded data removed]",
      "text/plain": [
       "<Figure size 1008x576 with 1 Axes>"
      ]
     },
     "metadata": {},
     "output_type": "display_data"
    }
   ],
   "source": [
    "data = matches.winner.value_counts()\n",
    "sns.barplot(y = data.index, x = data, orient='h');"
   ]
  },
  {
   "cell_type": "markdown",
   "metadata": {},
   "source": [
    "### Has Toss-winning helped in Match-winning"
   ]
  },
  {
   "cell_type": "code",
   "execution_count": 103,
   "metadata": {},
   "outputs": [
    {
     "name": "stdout",
     "output_type": "stream",
     "text": [
      "False    311\n",
      "True     325\n",
      "dtype: int64\n",
      "Toss winning help in match winning\n"
     ]
    }
   ],
   "source": [
    "ss = matches['toss_winner'] == matches['winner']\n",
    "print(ss.groupby(ss).size())\n",
    "k=list(ss.groupby(ss).size())\n",
    "if k[1]>k[0]:\n",
    "    print(\"Toss winning help in match winning\")\n",
    "else:\n",
    "    print(\"Toss winning not help in match winning\")"
   ]
  },
  {
   "cell_type": "markdown",
   "metadata": {},
   "source": [
    "### Now draw the graph for Truth and False category"
   ]
  },
  {
   "cell_type": "code",
   "execution_count": 104,
   "metadata": {},
   "outputs": [
    {
     "data": {
      "text/plain": [
       "<matplotlib.axes._subplots.AxesSubplot at 0x231c5dd7ba8>"
      ]
     },
     "execution_count": 104,
     "metadata": {},
     "output_type": "execute_result"
    },
    {
     "data": {
      "image/png": "[encoded data removed]",
      "text/plain": [
       "<Figure size 1008x576 with 1 Axes>"
      ]
     },
     "metadata": {},
     "output_type": "display_data"
    }
   ],
   "source": [
    "p.countplot(ss)"
   ]
  },
  {
   "cell_type": "code",
   "execution_count": null,
   "metadata": {},
   "outputs": [],
   "source": []
  },
  {
   "cell_type": "code",
   "execution_count": null,
   "metadata": {},
   "outputs": [],
   "source": []
  },
  {
   "cell_type": "code",
   "execution_count": 35,
   "metadata": {},
   "outputs": [
    {
     "data": {
      "text/plain": [
       "0"
      ]
     },
     "execution_count": 35,
     "metadata": {},
     "output_type": "execute_result"
    }
   ],
   "source": [
    "matches.win_by_wickets.idxmin()"
   ]
  },
  {
   "cell_type": "code",
   "execution_count": 23,
   "metadata": {},
   "outputs": [
    {
     "data": {
      "text/plain": [
       "146"
      ]
     },
     "execution_count": 23,
     "metadata": {},
     "output_type": "execute_result"
    }
   ],
   "source": [
    "matches['win_by_runs'].max()"
   ]
  }
 ],
 "metadata": {
  "kernelspec": {
   "display_name": "Python 3",
   "language": "python",
   "name": "python3"
  },
  "language_info": {
   "codemirror_mode": {
    "name": "ipython",
    "version": 3
   },
   "file_extension": ".py",
   "mimetype": "text/x-python",
   "name": "python",
   "nbconvert_exporter": "python",
   "pygments_lexer": "ipython3",
   "version": "3.7.3"
  }
 },
 "nbformat": 4,
 "nbformat_minor": 2
}
